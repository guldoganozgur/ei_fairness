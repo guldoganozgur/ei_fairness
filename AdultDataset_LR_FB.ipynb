{
 "cells": [
  {
   "cell_type": "code",
   "execution_count": 1,
   "id": "5d695d5b",
   "metadata": {},
   "outputs": [],
   "source": [
    "import torch\n",
    "import numpy as np\n",
    "import random\n",
    "import torch.optim as optim\n",
    "\n",
    "from algorithms import *\n",
    "from models import *\n",
    "from dataloaders import *\n",
    "\n",
    "from tabulate import tabulate"
   ]
  },
  {
   "cell_type": "code",
   "execution_count": 2,
   "id": "aa2f412a",
   "metadata": {},
   "outputs": [],
   "source": [
    "device = 'cpu'\n",
    "dataset = AdultDataset(device=device)"
   ]
  },
  {
   "cell_type": "code",
   "execution_count": 3,
   "id": "efbceba0",
   "metadata": {},
   "outputs": [],
   "source": [
    "def lr_fb_model_runner(dataset, hp, seeds):\n",
    "    test = {'accuracy':[],\n",
    "            'ei_disparity':[],\n",
    "            'dp_disparity':[],\n",
    "            'eo_disparity':[],\n",
    "            'eodd_disparity':[]}\n",
    "    \n",
    "    train = {'accuracy':[],\n",
    "            'ei_disparity':[],\n",
    "            'dp_disparity':[],\n",
    "            'eo_disparity':[],\n",
    "            'eodd_disparity':[]}\n",
    "    \n",
    "    val = {'accuracy':[],\n",
    "            'ei_disparity':[],\n",
    "            'dp_disparity':[],\n",
    "            'eo_disparity':[],\n",
    "            'eodd_disparity':[]}\n",
    "\n",
    "    def append_res(l,acc,ei,dp,eo,eodd):\n",
    "        l['accuracy'].append(acc)\n",
    "        l['ei_disparity'].append(ei)\n",
    "        l['dp_disparity'].append(dp)\n",
    "        l['eo_disparity'].append(eo)\n",
    "        l['eodd_disparity'].append(eodd)\n",
    "\n",
    "    for i in range(len(seeds)):\n",
    "        print('training seed', seeds[i] ,'started')\n",
    "        random.seed(seeds[i])\n",
    "        np.random.seed(seeds[i])\n",
    "        torch.manual_seed(seeds[i]) \n",
    "\n",
    "        model = logReg(num_features=dataset.XZ_train.shape[1])\n",
    "        model = model.to(device)\n",
    "        \n",
    "        lr = hp['learning_rate']\n",
    "        optimizer = optim.Adam(model.parameters(), lr=lr, weight_decay=1e-4)\n",
    "        \n",
    "        results = trainer_fb_fair(\n",
    "            model,\n",
    "            dataset,\n",
    "            optimizer,\n",
    "            device,\n",
    "            n_epochs=hp['n_epochs'],\n",
    "            batch_size=hp['batch_size'], \n",
    "            z_blind=False,\n",
    "            fairness=hp['fairness'], \n",
    "            lambda_=hp['lambda_'], \n",
    "            optimal_effort=True, \n",
    "            delta_effort=hp['delta_effort']\n",
    "            )\n",
    "        \n",
    "        append_res(train,results.train_acc_hist[-1],results.train_ei_hist[-1],results.train_dp_hist[-1],results.train_eo_hist[-1],results.train_eodd_hist[-1])\n",
    "        append_res(val,results.val_acc,results.val_ei,results.val_dp,results.val_eo,results.val_eodd)\n",
    "        append_res(test,results.test_acc,results.test_ei,results.test_dp,results.test_eo,results.test_eodd)\n",
    "\n",
    "    def get_res(l):\n",
    "        res = {}\n",
    "        res['accuracy_mean'] = np.mean(l['accuracy'])\n",
    "        res['accuracy_var'] = np.std(l['accuracy'])\n",
    "        res['accuracy_list'] = l['accuracy']\n",
    "        res['ei_mean'] = np.mean(l['ei_disparity'])\n",
    "        res['ei_var'] = np.std(l['ei_disparity'])\n",
    "        res['ei_list'] = l['ei_disparity']\n",
    "        res['dp_mean'] = np.mean(l['dp_disparity'])\n",
    "        res['dp_var'] = np.std(l['dp_disparity'])\n",
    "        res['dp_list'] = l['dp_disparity']\n",
    "        res['eo_mean'] = np.mean(l['eo_disparity'])\n",
    "        res['eo_var'] = np.std(l['eo_disparity'])\n",
    "        res['eo_list'] = l['eo_disparity']\n",
    "        res['eodd_mean'] = np.mean(l['eodd_disparity'])\n",
    "        res['eodd_var'] = np.std(l['eodd_disparity'])\n",
    "        res['eodd_list'] = l['eodd_disparity']\n",
    "        return res\n",
    "\n",
    "    res_train = get_res(train)\n",
    "    res_val = get_res(val)\n",
    "    res_test = get_res(test)\n",
    "    print('Training finished for all seeds.')\n",
    "    \n",
    "    return res_train, res_val, res_test\n",
    "\n",
    "\n",
    "def experiment_runner(dataset, SGD_hp, EI_hp, DP_hp, EO_hp, EODD_hp, seeds):\n",
    "    \n",
    "    _, _, SGD = lr_fb_model_runner(dataset, SGD_hp, seeds)\n",
    "    _, _, EI = lr_fb_model_runner(dataset, EI_hp, seeds)\n",
    "    _, _, DP = lr_fb_model_runner(dataset, DP_hp, seeds)\n",
    "    _, _, EO = lr_fb_model_runner(dataset, EO_hp, seeds)\n",
    "    _, _, EODD = lr_fb_model_runner(dataset, EODD_hp, seeds)\n",
    "    \n",
    "    return SGD, EI, DP, EO, EODD\n",
    "\n",
    "def hyperparameter_test(dataset, hp_test, seed=0):\n",
    "    hp = hp_test.copy()\n",
    "    result = []\n",
    "    for i in hp_test['learning_rate']:\n",
    "        for k in hp_test['lambda_']:\n",
    "            c = []\n",
    "            hp['learning_rate'] = i\n",
    "            hp['lambda_'] = k\n",
    "            train, val, _ = lr_fb_model_runner(dataset, hp, seeds=[seed])\n",
    "            c.append(hp['learning_rate'])\n",
    "            c.append(hp['lambda_'])\n",
    "            c.append(train['accuracy_mean'])\n",
    "            c.append(val['accuracy_mean'])\n",
    "            c.append(val['ei_mean'])\n",
    "            c.append(val['dp_mean'])\n",
    "            c.append(val['eo_mean'])\n",
    "            c.append(val['eodd_mean'])\n",
    "            result.append(c)\n",
    "    print(tabulate(result, headers=['learning_rate', 'lambda_', 'accuracy_train', 'accuracy_val','ei', 'dp', 'eo', 'eodd']))"
   ]
  },
  {
   "cell_type": "markdown",
   "id": "616660d3",
   "metadata": {},
   "source": [
    "# SGD Hyperparameter Selection"
   ]
  },
  {
   "cell_type": "code",
   "execution_count": 4,
   "id": "50d5c1eb",
   "metadata": {},
   "outputs": [
    {
     "name": "stdout",
     "output_type": "stream",
     "text": [
      "training seed 0 started\n"
     ]
    },
    {
     "name": "stderr",
     "output_type": "stream",
     "text": [
      "Training: 100%|██████████| 100/100 [00:19<00:00,  5.14epochs/s]\n"
     ]
    },
    {
     "name": "stdout",
     "output_type": "stream",
     "text": [
      "Training finished for all seeds.\n",
      "training seed 0 started\n"
     ]
    },
    {
     "name": "stderr",
     "output_type": "stream",
     "text": [
      "Training: 100%|██████████| 100/100 [00:18<00:00,  5.42epochs/s]\n"
     ]
    },
    {
     "name": "stdout",
     "output_type": "stream",
     "text": [
      "Training finished for all seeds.\n",
      "training seed 0 started\n"
     ]
    },
    {
     "name": "stderr",
     "output_type": "stream",
     "text": [
      "Training: 100%|██████████| 100/100 [00:19<00:00,  5.24epochs/s]\n"
     ]
    },
    {
     "name": "stdout",
     "output_type": "stream",
     "text": [
      "Training finished for all seeds.\n",
      "training seed 0 started\n"
     ]
    },
    {
     "name": "stderr",
     "output_type": "stream",
     "text": [
      "Training: 100%|██████████| 100/100 [00:18<00:00,  5.55epochs/s]\n"
     ]
    },
    {
     "name": "stdout",
     "output_type": "stream",
     "text": [
      "Training finished for all seeds.\n",
      "  learning_rate    lambda_    accuracy_train    accuracy_val           ei          dp          eo        eodd\n",
      "---------------  ---------  ----------------  --------------  -----------  ----------  ----------  ----------\n",
      "         0.0001          0          0.759625        0.759158  0.000638715  0.00732228  0.00195639  0.00195639\n",
      "         0.001           0          0.837043        0.842533  0.0163369    0.119958    0.0720145   0.0720145\n",
      "         0.01            0          0.846036        0.85082   0.0588518    0.14373     0.0879802   0.0879802\n",
      "         0.1             0          0.844875        0.843362  0.0502871    0.102196    0.0600302   0.0600302\n"
     ]
    }
   ],
   "source": [
    "SGD_hp_test = {}\n",
    "SGD_hp_test['learning_rate'] = [0.0001, 0.001, 0.01, 0.1]\n",
    "SGD_hp_test['lambda_'] = [0]\n",
    "SGD_hp_test['n_epochs'] = 100\n",
    "SGD_hp_test['batch_size'] = 1024\n",
    "SGD_hp_test['fairness'] = ''\n",
    "SGD_hp_test['delta_effort'] = 2.1\n",
    "\n",
    "hyperparameter_test(dataset, SGD_hp_test, seed=0)"
   ]
  },
  {
   "cell_type": "code",
   "execution_count": 5,
   "id": "9e84b515",
   "metadata": {},
   "outputs": [],
   "source": [
    "SGD_hp = SGD_hp_test.copy()\n",
    "SGD_hp['learning_rate'] = 0.01\n",
    "SGD_hp['lambda_'] = 0"
   ]
  },
  {
   "cell_type": "markdown",
   "id": "8a26a482",
   "metadata": {},
   "source": [
    "# EI Hyperparameter Selection"
   ]
  },
  {
   "cell_type": "code",
   "execution_count": 6,
   "id": "3950fb68",
   "metadata": {
    "scrolled": true
   },
   "outputs": [
    {
     "name": "stdout",
     "output_type": "stream",
     "text": [
      "training seed 0 started\n"
     ]
    },
    {
     "name": "stderr",
     "output_type": "stream",
     "text": [
      "Training: 100%|██████████| 100/100 [00:35<00:00,  2.79epochs/s]\n"
     ]
    },
    {
     "name": "stdout",
     "output_type": "stream",
     "text": [
      "Training finished for all seeds.\n",
      "training seed 0 started\n"
     ]
    },
    {
     "name": "stderr",
     "output_type": "stream",
     "text": [
      "Training: 100%|██████████| 100/100 [00:35<00:00,  2.84epochs/s]\n"
     ]
    },
    {
     "name": "stdout",
     "output_type": "stream",
     "text": [
      "Training finished for all seeds.\n",
      "training seed 0 started\n"
     ]
    },
    {
     "name": "stderr",
     "output_type": "stream",
     "text": [
      "Training: 100%|██████████| 100/100 [00:35<00:00,  2.82epochs/s]\n"
     ]
    },
    {
     "name": "stdout",
     "output_type": "stream",
     "text": [
      "Training finished for all seeds.\n",
      "training seed 0 started\n"
     ]
    },
    {
     "name": "stderr",
     "output_type": "stream",
     "text": [
      "Training: 100%|██████████| 100/100 [00:34<00:00,  2.92epochs/s]\n"
     ]
    },
    {
     "name": "stdout",
     "output_type": "stream",
     "text": [
      "Training finished for all seeds.\n",
      "training seed 0 started\n"
     ]
    },
    {
     "name": "stderr",
     "output_type": "stream",
     "text": [
      "Training: 100%|██████████| 100/100 [00:33<00:00,  2.96epochs/s]\n"
     ]
    },
    {
     "name": "stdout",
     "output_type": "stream",
     "text": [
      "Training finished for all seeds.\n",
      "training seed 0 started\n"
     ]
    },
    {
     "name": "stderr",
     "output_type": "stream",
     "text": [
      "Training: 100%|██████████| 100/100 [00:35<00:00,  2.84epochs/s]\n"
     ]
    },
    {
     "name": "stdout",
     "output_type": "stream",
     "text": [
      "Training finished for all seeds.\n",
      "training seed 0 started\n"
     ]
    },
    {
     "name": "stderr",
     "output_type": "stream",
     "text": [
      "Training: 100%|██████████| 100/100 [00:35<00:00,  2.80epochs/s]\n"
     ]
    },
    {
     "name": "stdout",
     "output_type": "stream",
     "text": [
      "Training finished for all seeds.\n",
      "training seed 0 started\n"
     ]
    },
    {
     "name": "stderr",
     "output_type": "stream",
     "text": [
      "Training: 100%|██████████| 100/100 [00:34<00:00,  2.88epochs/s]\n"
     ]
    },
    {
     "name": "stdout",
     "output_type": "stream",
     "text": [
      "Training finished for all seeds.\n",
      "training seed 0 started\n"
     ]
    },
    {
     "name": "stderr",
     "output_type": "stream",
     "text": [
      "Training: 100%|██████████| 100/100 [00:36<00:00,  2.75epochs/s]\n"
     ]
    },
    {
     "name": "stdout",
     "output_type": "stream",
     "text": [
      "Training finished for all seeds.\n",
      "training seed 0 started\n"
     ]
    },
    {
     "name": "stderr",
     "output_type": "stream",
     "text": [
      "Training: 100%|██████████| 100/100 [00:37<00:00,  2.63epochs/s]\n"
     ]
    },
    {
     "name": "stdout",
     "output_type": "stream",
     "text": [
      "Training finished for all seeds.\n",
      "training seed 0 started\n"
     ]
    },
    {
     "name": "stderr",
     "output_type": "stream",
     "text": [
      "Training: 100%|██████████| 100/100 [00:37<00:00,  2.68epochs/s]\n"
     ]
    },
    {
     "name": "stdout",
     "output_type": "stream",
     "text": [
      "Training finished for all seeds.\n",
      "training seed 0 started\n"
     ]
    },
    {
     "name": "stderr",
     "output_type": "stream",
     "text": [
      "Training: 100%|██████████| 100/100 [00:37<00:00,  2.65epochs/s]"
     ]
    },
    {
     "name": "stdout",
     "output_type": "stream",
     "text": [
      "Training finished for all seeds.\n",
      "  learning_rate    lambda_    accuracy_train    accuracy_val           ei          dp           eo       eodd\n",
      "---------------  ---------  ----------------  --------------  -----------  ----------  -----------  ---------\n",
      "          0.001      0.001          0.84645         0.851152  0.0517852    0.128451    0.0753495    0.0753495\n",
      "          0.001      0.01           0.846367        0.851649  0.0530106    0.119885    0.0345657    0.0482984\n",
      "          0.001      0.1            0.845621        0.850489  0.0435915    0.110959    0.0242718    0.042112\n",
      "          0.001      0.2            0.843964        0.851649  0.044072     0.10189     0.00668432   0.0361362\n",
      "          0.001      0.5            0.819595        0.826952  0.0256201    0.0537745   0.0362218    0.0362218\n",
      "          0.001      0.8            0.751295        0.750207  0            0           0            0\n",
      "          0.01       0.001          0.847777        0.848831  0.0572313    0.132114    0.0846338    0.0846338\n",
      "          0.01       0.01           0.847321        0.849329  0.0525965    0.123217    0.0431864    0.0513917\n",
      "          0.01       0.1            0.844917        0.853307  0.0462886    0.106403    0.000735075  0.0388481\n",
      "          0.01       0.2            0.845456        0.85082   0.04563      0.101013    0.0093386    0.0346902\n",
      "          0.01       0.5            0.822993        0.83209   0.043908     0.0526433   0.0584199    0.0584199\n",
      "          0.01       0.8            0.773758        0.774076  0.000845778  0.00836196  0.0410498    0.0410498\n"
     ]
    },
    {
     "name": "stderr",
     "output_type": "stream",
     "text": [
      "\n"
     ]
    }
   ],
   "source": [
    "EI_hp_test = SGD_hp_test.copy()\n",
    "EI_hp_test['learning_rate'] = [1e-3, 1e-2]\n",
    "EI_hp_test['lambda_'] = [1e-3, 1e-2, 0.1, 0.2, 0.5, 0.8]\n",
    "EI_hp_test['batch_size'] = 128\n",
    "EI_hp_test['fairness'] = 'EI'\n",
    "\n",
    "hyperparameter_test(dataset, EI_hp_test, seed=0)"
   ]
  },
  {
   "cell_type": "code",
   "execution_count": 7,
   "id": "9e76c131",
   "metadata": {},
   "outputs": [],
   "source": [
    "EI_hp = EI_hp_test.copy()\n",
    "EI_hp['learning_rate'] = 0.001\n",
    "EI_hp['lambda_'] = 0.5"
   ]
  },
  {
   "cell_type": "markdown",
   "id": "a5eb3f18",
   "metadata": {},
   "source": [
    "# DP Hyperparameter Selection"
   ]
  },
  {
   "cell_type": "code",
   "execution_count": 8,
   "id": "cde95c93",
   "metadata": {
    "scrolled": true
   },
   "outputs": [
    {
     "name": "stdout",
     "output_type": "stream",
     "text": [
      "training seed 0 started\n"
     ]
    },
    {
     "name": "stderr",
     "output_type": "stream",
     "text": [
      "Training: 100%|██████████| 100/100 [00:23<00:00,  4.21epochs/s]\n"
     ]
    },
    {
     "name": "stdout",
     "output_type": "stream",
     "text": [
      "Training finished for all seeds.\n",
      "training seed 0 started\n"
     ]
    },
    {
     "name": "stderr",
     "output_type": "stream",
     "text": [
      "Training: 100%|██████████| 100/100 [00:24<00:00,  4.06epochs/s]\n"
     ]
    },
    {
     "name": "stdout",
     "output_type": "stream",
     "text": [
      "Training finished for all seeds.\n",
      "training seed 0 started\n"
     ]
    },
    {
     "name": "stderr",
     "output_type": "stream",
     "text": [
      "Training: 100%|██████████| 100/100 [00:24<00:00,  4.16epochs/s]\n"
     ]
    },
    {
     "name": "stdout",
     "output_type": "stream",
     "text": [
      "Training finished for all seeds.\n",
      "training seed 0 started\n"
     ]
    },
    {
     "name": "stderr",
     "output_type": "stream",
     "text": [
      "Training: 100%|██████████| 100/100 [00:23<00:00,  4.29epochs/s]\n"
     ]
    },
    {
     "name": "stdout",
     "output_type": "stream",
     "text": [
      "Training finished for all seeds.\n",
      "training seed 0 started\n"
     ]
    },
    {
     "name": "stderr",
     "output_type": "stream",
     "text": [
      "Training: 100%|██████████| 100/100 [00:24<00:00,  4.05epochs/s]\n"
     ]
    },
    {
     "name": "stdout",
     "output_type": "stream",
     "text": [
      "Training finished for all seeds.\n",
      "training seed 0 started\n"
     ]
    },
    {
     "name": "stderr",
     "output_type": "stream",
     "text": [
      "Training: 100%|██████████| 100/100 [00:23<00:00,  4.28epochs/s]\n"
     ]
    },
    {
     "name": "stdout",
     "output_type": "stream",
     "text": [
      "Training finished for all seeds.\n",
      "training seed 0 started\n"
     ]
    },
    {
     "name": "stderr",
     "output_type": "stream",
     "text": [
      "Training: 100%|██████████| 100/100 [00:23<00:00,  4.23epochs/s]\n"
     ]
    },
    {
     "name": "stdout",
     "output_type": "stream",
     "text": [
      "Training finished for all seeds.\n",
      "training seed 0 started\n"
     ]
    },
    {
     "name": "stderr",
     "output_type": "stream",
     "text": [
      "Training: 100%|██████████| 100/100 [00:23<00:00,  4.19epochs/s]\n"
     ]
    },
    {
     "name": "stdout",
     "output_type": "stream",
     "text": [
      "Training finished for all seeds.\n",
      "training seed 0 started\n"
     ]
    },
    {
     "name": "stderr",
     "output_type": "stream",
     "text": [
      "Training: 100%|██████████| 100/100 [00:23<00:00,  4.29epochs/s]\n"
     ]
    },
    {
     "name": "stdout",
     "output_type": "stream",
     "text": [
      "Training finished for all seeds.\n",
      "training seed 0 started\n"
     ]
    },
    {
     "name": "stderr",
     "output_type": "stream",
     "text": [
      "Training: 100%|██████████| 100/100 [00:24<00:00,  4.14epochs/s]"
     ]
    },
    {
     "name": "stdout",
     "output_type": "stream",
     "text": [
      "Training finished for all seeds.\n",
      "  learning_rate    lambda_    accuracy_train    accuracy_val         ei          dp         eo       eodd\n",
      "---------------  ---------  ----------------  --------------  ---------  ----------  ---------  ---------\n",
      "         0.001       0.001          0.846865        0.851649  0.0510907  0.129454    0.0773402  0.0773402\n",
      "         0.001       0.01           0.846989        0.852147  0.0518501  0.127219    0.0538035  0.0538035\n",
      "         0.001       0.1            0.823283        0.819824  0.0163855  0.10765     0.0608339  0.0608339\n",
      "         0.001       0.2            0.659497        0.645284  0.117841   0.05405     0.0265657  0.0265657\n",
      "         0.001       0.5            0.625347        0.617603  0.222017   0.00487641  0.0378349  0.0575579\n",
      "         0.0005      0.001          0.846036        0.85082   0.0495105  0.128925    0.0700467  0.0700467\n",
      "         0.0005      0.01           0.845787        0.852644  0.0525869  0.127195    0.0534746  0.0534746\n",
      "         0.0005      0.1            0.822081        0.816509  0.0186159  0.108091    0.0595068  0.0595068\n",
      "         0.0005      0.2            0.659414        0.64429   0.10574    0.0474811   0.0328667  0.0328667\n",
      "         0.0005      0.5            0.634755        0.623073  0.168217   0.00635523  0.0431435  0.0557409\n"
     ]
    },
    {
     "name": "stderr",
     "output_type": "stream",
     "text": [
      "\n"
     ]
    }
   ],
   "source": [
    "DP_hp_test = SGD_hp_test.copy()\n",
    "DP_hp_test['learning_rate'] = [1e-3, 5e-4]\n",
    "DP_hp_test['lambda_'] = [1e-3, 1e-2, 0.1, 0.2, 0.5]\n",
    "DP_hp_test['batch_size'] = 128\n",
    "DP_hp_test['fairness'] = 'DP'\n",
    "\n",
    "hyperparameter_test(dataset, DP_hp_test, seed=0)"
   ]
  },
  {
   "cell_type": "code",
   "execution_count": 18,
   "id": "cc7b9cb8",
   "metadata": {},
   "outputs": [],
   "source": [
    "DP_hp = DP_hp_test.copy()\n",
    "DP_hp['learning_rate'] = 0.001\n",
    "DP_hp['lambda_'] = 0.1"
   ]
  },
  {
   "cell_type": "markdown",
   "id": "3433a929",
   "metadata": {},
   "source": [
    "# EO Hyperparameter Selection"
   ]
  },
  {
   "cell_type": "code",
   "execution_count": 10,
   "id": "5d159212",
   "metadata": {
    "scrolled": true
   },
   "outputs": [
    {
     "name": "stdout",
     "output_type": "stream",
     "text": [
      "training seed 0 started\n"
     ]
    },
    {
     "name": "stderr",
     "output_type": "stream",
     "text": [
      "Training: 100%|██████████| 100/100 [00:25<00:00,  3.90epochs/s]\n"
     ]
    },
    {
     "name": "stdout",
     "output_type": "stream",
     "text": [
      "Training finished for all seeds.\n",
      "training seed 0 started\n"
     ]
    },
    {
     "name": "stderr",
     "output_type": "stream",
     "text": [
      "Training: 100%|██████████| 100/100 [00:25<00:00,  3.88epochs/s]\n"
     ]
    },
    {
     "name": "stdout",
     "output_type": "stream",
     "text": [
      "Training finished for all seeds.\n",
      "training seed 0 started\n"
     ]
    },
    {
     "name": "stderr",
     "output_type": "stream",
     "text": [
      "Training: 100%|██████████| 100/100 [00:27<00:00,  3.67epochs/s]\n"
     ]
    },
    {
     "name": "stdout",
     "output_type": "stream",
     "text": [
      "Training finished for all seeds.\n",
      "training seed 0 started\n"
     ]
    },
    {
     "name": "stderr",
     "output_type": "stream",
     "text": [
      "Training: 100%|██████████| 100/100 [00:25<00:00,  3.96epochs/s]\n"
     ]
    },
    {
     "name": "stdout",
     "output_type": "stream",
     "text": [
      "Training finished for all seeds.\n",
      "training seed 0 started\n"
     ]
    },
    {
     "name": "stderr",
     "output_type": "stream",
     "text": [
      "Training: 100%|██████████| 100/100 [00:25<00:00,  3.88epochs/s]\n"
     ]
    },
    {
     "name": "stdout",
     "output_type": "stream",
     "text": [
      "Training finished for all seeds.\n",
      "training seed 0 started\n"
     ]
    },
    {
     "name": "stderr",
     "output_type": "stream",
     "text": [
      "Training: 100%|██████████| 100/100 [00:25<00:00,  3.93epochs/s]\n"
     ]
    },
    {
     "name": "stdout",
     "output_type": "stream",
     "text": [
      "Training finished for all seeds.\n",
      "training seed 0 started\n"
     ]
    },
    {
     "name": "stderr",
     "output_type": "stream",
     "text": [
      "Training: 100%|██████████| 100/100 [00:26<00:00,  3.80epochs/s]\n"
     ]
    },
    {
     "name": "stdout",
     "output_type": "stream",
     "text": [
      "Training finished for all seeds.\n",
      "training seed 0 started\n"
     ]
    },
    {
     "name": "stderr",
     "output_type": "stream",
     "text": [
      "Training: 100%|██████████| 100/100 [00:25<00:00,  3.91epochs/s]\n"
     ]
    },
    {
     "name": "stdout",
     "output_type": "stream",
     "text": [
      "Training finished for all seeds.\n",
      "training seed 0 started\n"
     ]
    },
    {
     "name": "stderr",
     "output_type": "stream",
     "text": [
      "Training: 100%|██████████| 100/100 [00:25<00:00,  3.94epochs/s]\n"
     ]
    },
    {
     "name": "stdout",
     "output_type": "stream",
     "text": [
      "Training finished for all seeds.\n",
      "training seed 0 started\n"
     ]
    },
    {
     "name": "stderr",
     "output_type": "stream",
     "text": [
      "Training: 100%|██████████| 100/100 [00:25<00:00,  3.88epochs/s]\n"
     ]
    },
    {
     "name": "stdout",
     "output_type": "stream",
     "text": [
      "Training finished for all seeds.\n",
      "training seed 0 started\n"
     ]
    },
    {
     "name": "stderr",
     "output_type": "stream",
     "text": [
      "Training: 100%|██████████| 100/100 [00:25<00:00,  3.90epochs/s]\n"
     ]
    },
    {
     "name": "stdout",
     "output_type": "stream",
     "text": [
      "Training finished for all seeds.\n",
      "training seed 0 started\n"
     ]
    },
    {
     "name": "stderr",
     "output_type": "stream",
     "text": [
      "Training: 100%|██████████| 100/100 [00:25<00:00,  3.86epochs/s]"
     ]
    },
    {
     "name": "stdout",
     "output_type": "stream",
     "text": [
      "Training finished for all seeds.\n",
      "  learning_rate    lambda_    accuracy_train    accuracy_val           ei          dp         eo       eodd\n",
      "---------------  ---------  ----------------  --------------  -----------  ----------  ---------  ---------\n",
      "          0.001      0.001          0.846658        0.851815  0.0509267    0.128783    0.0730299  0.0730299\n",
      "          0.001      0.01           0.846202        0.850157  0.0491371    0.12523     0.0630821  0.0630821\n",
      "          0.001      0.1            0.845373        0.851484  0.0456841    0.115471    0.0169954  0.0452658\n",
      "          0.001      0.2            0.844668        0.850655  0.0446443    0.116599    0.0216404  0.0456275\n",
      "          0.001      0.5            0.765386        0.766451  0.0150516    0.0158482   0.0378464  0.0378464\n",
      "          0.001      0.8            0.751295        0.750207  0            0           0          0\n",
      "          0.01       0.001          0.847569        0.849329  0.058585     0.129139    0.0786616  0.0786616\n",
      "          0.01       0.01           0.847321        0.849826  0.0578141    0.125436    0.0663942  0.0663942\n",
      "          0.01       0.1            0.845539        0.848997  0.0498417    0.11313     0.0322289  0.0438795\n",
      "          0.01       0.2            0.843342        0.846511  0.0448844    0.107914    0.0401689  0.0401689\n",
      "          0.01       0.5            0.826723        0.828775  0.0259833    0.103455    0.0375546  0.0375546\n",
      "          0.01       0.8            0.758796        0.757998  0.000690659  0.00122151  0.0248467  0.0248467\n"
     ]
    },
    {
     "name": "stderr",
     "output_type": "stream",
     "text": [
      "\n"
     ]
    }
   ],
   "source": [
    "EO_hp_test = SGD_hp_test.copy()\n",
    "EO_hp_test['learning_rate'] = [1e-3, 1e-2]\n",
    "EO_hp_test['lambda_'] = [0.001, 1e-2, 0.1, 0.2, 0.5, 0.8]\n",
    "EO_hp_test['batch_size'] = 128\n",
    "EO_hp_test['fairness'] = 'EO'\n",
    "\n",
    "hyperparameter_test(dataset, EO_hp_test, seed=0)"
   ]
  },
  {
   "cell_type": "code",
   "execution_count": 14,
   "id": "2170f89c",
   "metadata": {},
   "outputs": [],
   "source": [
    "EO_hp = EO_hp_test.copy()\n",
    "EO_hp['learning_rate'] = 0.001\n",
    "EO_hp['lambda_'] = 0.1"
   ]
  },
  {
   "cell_type": "markdown",
   "id": "6660a4a5",
   "metadata": {},
   "source": [
    "# EOD Hyperparameter Selection"
   ]
  },
  {
   "cell_type": "code",
   "execution_count": 12,
   "id": "7e92c02e",
   "metadata": {
    "scrolled": true
   },
   "outputs": [
    {
     "name": "stdout",
     "output_type": "stream",
     "text": [
      "training seed 0 started\n"
     ]
    },
    {
     "name": "stderr",
     "output_type": "stream",
     "text": [
      "Training: 100%|██████████| 100/100 [00:32<00:00,  3.07epochs/s]\n"
     ]
    },
    {
     "name": "stdout",
     "output_type": "stream",
     "text": [
      "Training finished for all seeds.\n",
      "training seed 0 started\n"
     ]
    },
    {
     "name": "stderr",
     "output_type": "stream",
     "text": [
      "Training: 100%|██████████| 100/100 [00:32<00:00,  3.06epochs/s]\n"
     ]
    },
    {
     "name": "stdout",
     "output_type": "stream",
     "text": [
      "Training finished for all seeds.\n",
      "training seed 0 started\n"
     ]
    },
    {
     "name": "stderr",
     "output_type": "stream",
     "text": [
      "Training: 100%|██████████| 100/100 [00:32<00:00,  3.11epochs/s]\n"
     ]
    },
    {
     "name": "stdout",
     "output_type": "stream",
     "text": [
      "Training finished for all seeds.\n",
      "training seed 0 started\n"
     ]
    },
    {
     "name": "stderr",
     "output_type": "stream",
     "text": [
      "Training: 100%|██████████| 100/100 [00:33<00:00,  3.03epochs/s]\n"
     ]
    },
    {
     "name": "stdout",
     "output_type": "stream",
     "text": [
      "Training finished for all seeds.\n",
      "training seed 0 started\n"
     ]
    },
    {
     "name": "stderr",
     "output_type": "stream",
     "text": [
      "Training: 100%|██████████| 100/100 [00:34<00:00,  2.93epochs/s]\n"
     ]
    },
    {
     "name": "stdout",
     "output_type": "stream",
     "text": [
      "Training finished for all seeds.\n",
      "training seed 0 started\n"
     ]
    },
    {
     "name": "stderr",
     "output_type": "stream",
     "text": [
      "Training: 100%|██████████| 100/100 [00:31<00:00,  3.14epochs/s]\n"
     ]
    },
    {
     "name": "stdout",
     "output_type": "stream",
     "text": [
      "Training finished for all seeds.\n",
      "training seed 0 started\n"
     ]
    },
    {
     "name": "stderr",
     "output_type": "stream",
     "text": [
      "Training: 100%|██████████| 100/100 [00:33<00:00,  3.02epochs/s]\n"
     ]
    },
    {
     "name": "stdout",
     "output_type": "stream",
     "text": [
      "Training finished for all seeds.\n",
      "training seed 0 started\n"
     ]
    },
    {
     "name": "stderr",
     "output_type": "stream",
     "text": [
      "Training: 100%|██████████| 100/100 [00:33<00:00,  3.03epochs/s]\n"
     ]
    },
    {
     "name": "stdout",
     "output_type": "stream",
     "text": [
      "Training finished for all seeds.\n",
      "training seed 0 started\n"
     ]
    },
    {
     "name": "stderr",
     "output_type": "stream",
     "text": [
      "Training: 100%|██████████| 100/100 [00:33<00:00,  3.02epochs/s]\n"
     ]
    },
    {
     "name": "stdout",
     "output_type": "stream",
     "text": [
      "Training finished for all seeds.\n",
      "training seed 0 started\n"
     ]
    },
    {
     "name": "stderr",
     "output_type": "stream",
     "text": [
      "Training: 100%|██████████| 100/100 [00:32<00:00,  3.07epochs/s]\n"
     ]
    },
    {
     "name": "stdout",
     "output_type": "stream",
     "text": [
      "Training finished for all seeds.\n",
      "training seed 0 started\n"
     ]
    },
    {
     "name": "stderr",
     "output_type": "stream",
     "text": [
      "Training: 100%|██████████| 100/100 [00:32<00:00,  3.04epochs/s]\n"
     ]
    },
    {
     "name": "stdout",
     "output_type": "stream",
     "text": [
      "Training finished for all seeds.\n",
      "training seed 0 started\n"
     ]
    },
    {
     "name": "stderr",
     "output_type": "stream",
     "text": [
      "Training: 100%|██████████| 100/100 [00:32<00:00,  3.09epochs/s]"
     ]
    },
    {
     "name": "stdout",
     "output_type": "stream",
     "text": [
      "Training finished for all seeds.\n",
      "  learning_rate    lambda_    accuracy_train    accuracy_val           ei           dp          eo        eodd\n",
      "---------------  ---------  ----------------  --------------  -----------  -----------  ----------  ----------\n",
      "          0.001      0.001          0.846533        0.852147  0.0513999    0.128104     0.0657363   0.0657363\n",
      "          0.001      0.01           0.84587         0.850489  0.0486101    0.122198     0.0421939   0.049805\n",
      "          0.001      0.1            0.844337        0.850323  0.0432721    0.11611      0.0232965   0.0451856\n",
      "          0.001      0.2            0.842306        0.849494  0.0466498    0.113418     0.0256161   0.042193\n",
      "          0.001      0.5            0.751295        0.750207  0            0            0           0\n",
      "          0.001      0.8            0.751295        0.750207  0            0            0           0\n",
      "          0.01       0.001          0.847694        0.849163  0.0580357    0.128799     0.0786616   0.0786616\n",
      "          0.01       0.01           0.847031        0.850489  0.0547681    0.121725     0.0425228   0.0496241\n",
      "          0.01       0.1            0.843881        0.846842  0.045643     0.10624      0.035195    0.0388379\n",
      "          0.01       0.2            0.842182        0.846511  0.0490171    0.107788     0.0521017   0.0521017\n",
      "          0.01       0.5            0.751129        0.750373  7.95823e-06  0.000165755  0.00066357  0.00066357\n",
      "          0.01       0.8            0.751295        0.750207  0            0            0           0\n"
     ]
    },
    {
     "name": "stderr",
     "output_type": "stream",
     "text": [
      "\n"
     ]
    }
   ],
   "source": [
    "EODD_hp_test = SGD_hp_test.copy()\n",
    "EODD_hp_test['learning_rate'] = [1e-3, 1e-2]\n",
    "EODD_hp_test['lambda_'] = [1e-3, 1e-2, 0.1, 0.2, 0.5, 0.8]\n",
    "EODD_hp_test['batch_size'] = 128\n",
    "EODD_hp_test['fairness'] = 'EODD'\n",
    "\n",
    "hyperparameter_test(dataset, EODD_hp_test, seed=0)"
   ]
  },
  {
   "cell_type": "code",
   "execution_count": 15,
   "id": "782595eb",
   "metadata": {},
   "outputs": [],
   "source": [
    "EODD_hp = EODD_hp_test.copy()\n",
    "EODD_hp['learning_rate'] = 0.01\n",
    "EODD_hp['lambda_'] = 0.1"
   ]
  },
  {
   "cell_type": "markdown",
   "id": "d267bf51",
   "metadata": {},
   "source": [
    "# Model Training"
   ]
  },
  {
   "cell_type": "code",
   "execution_count": 20,
   "id": "ff506ca6",
   "metadata": {
    "scrolled": true
   },
   "outputs": [
    {
     "name": "stdout",
     "output_type": "stream",
     "text": [
      "training seed 1 started\n"
     ]
    },
    {
     "name": "stderr",
     "output_type": "stream",
     "text": [
      "Training: 100%|██████████| 100/100 [00:16<00:00,  5.95epochs/s]\n"
     ]
    },
    {
     "name": "stdout",
     "output_type": "stream",
     "text": [
      "training seed 2 started\n"
     ]
    },
    {
     "name": "stderr",
     "output_type": "stream",
     "text": [
      "Training: 100%|██████████| 100/100 [00:16<00:00,  6.17epochs/s]\n"
     ]
    },
    {
     "name": "stdout",
     "output_type": "stream",
     "text": [
      "training seed 3 started\n"
     ]
    },
    {
     "name": "stderr",
     "output_type": "stream",
     "text": [
      "Training: 100%|██████████| 100/100 [00:16<00:00,  6.16epochs/s]\n"
     ]
    },
    {
     "name": "stdout",
     "output_type": "stream",
     "text": [
      "training seed 4 started\n"
     ]
    },
    {
     "name": "stderr",
     "output_type": "stream",
     "text": [
      "Training: 100%|██████████| 100/100 [00:16<00:00,  6.16epochs/s]\n"
     ]
    },
    {
     "name": "stdout",
     "output_type": "stream",
     "text": [
      "training seed 5 started\n"
     ]
    },
    {
     "name": "stderr",
     "output_type": "stream",
     "text": [
      "Training: 100%|██████████| 100/100 [00:16<00:00,  6.18epochs/s]\n"
     ]
    },
    {
     "name": "stdout",
     "output_type": "stream",
     "text": [
      "Training finished for all seeds.\n",
      "training seed 1 started\n"
     ]
    },
    {
     "name": "stderr",
     "output_type": "stream",
     "text": [
      "Training: 100%|██████████| 100/100 [00:33<00:00,  2.98epochs/s]\n"
     ]
    },
    {
     "name": "stdout",
     "output_type": "stream",
     "text": [
      "training seed 2 started\n"
     ]
    },
    {
     "name": "stderr",
     "output_type": "stream",
     "text": [
      "Training: 100%|██████████| 100/100 [00:32<00:00,  3.04epochs/s]\n"
     ]
    },
    {
     "name": "stdout",
     "output_type": "stream",
     "text": [
      "training seed 3 started\n"
     ]
    },
    {
     "name": "stderr",
     "output_type": "stream",
     "text": [
      "Training: 100%|██████████| 100/100 [00:32<00:00,  3.05epochs/s]\n"
     ]
    },
    {
     "name": "stdout",
     "output_type": "stream",
     "text": [
      "training seed 4 started\n"
     ]
    },
    {
     "name": "stderr",
     "output_type": "stream",
     "text": [
      "Training: 100%|██████████| 100/100 [00:32<00:00,  3.05epochs/s]\n"
     ]
    },
    {
     "name": "stdout",
     "output_type": "stream",
     "text": [
      "training seed 5 started\n"
     ]
    },
    {
     "name": "stderr",
     "output_type": "stream",
     "text": [
      "Training: 100%|██████████| 100/100 [00:34<00:00,  2.90epochs/s]\n"
     ]
    },
    {
     "name": "stdout",
     "output_type": "stream",
     "text": [
      "Training finished for all seeds.\n",
      "training seed 1 started\n"
     ]
    },
    {
     "name": "stderr",
     "output_type": "stream",
     "text": [
      "Training: 100%|██████████| 100/100 [00:23<00:00,  4.34epochs/s]\n"
     ]
    },
    {
     "name": "stdout",
     "output_type": "stream",
     "text": [
      "training seed 2 started\n"
     ]
    },
    {
     "name": "stderr",
     "output_type": "stream",
     "text": [
      "Training: 100%|██████████| 100/100 [00:22<00:00,  4.50epochs/s]\n"
     ]
    },
    {
     "name": "stdout",
     "output_type": "stream",
     "text": [
      "training seed 3 started\n"
     ]
    },
    {
     "name": "stderr",
     "output_type": "stream",
     "text": [
      "Training: 100%|██████████| 100/100 [00:22<00:00,  4.50epochs/s]\n"
     ]
    },
    {
     "name": "stdout",
     "output_type": "stream",
     "text": [
      "training seed 4 started\n"
     ]
    },
    {
     "name": "stderr",
     "output_type": "stream",
     "text": [
      "Training: 100%|██████████| 100/100 [00:22<00:00,  4.51epochs/s]\n"
     ]
    },
    {
     "name": "stdout",
     "output_type": "stream",
     "text": [
      "training seed 5 started\n"
     ]
    },
    {
     "name": "stderr",
     "output_type": "stream",
     "text": [
      "Training: 100%|██████████| 100/100 [00:22<00:00,  4.50epochs/s]\n"
     ]
    },
    {
     "name": "stdout",
     "output_type": "stream",
     "text": [
      "Training finished for all seeds.\n",
      "training seed 1 started\n"
     ]
    },
    {
     "name": "stderr",
     "output_type": "stream",
     "text": [
      "Training: 100%|██████████| 100/100 [00:24<00:00,  4.13epochs/s]\n"
     ]
    },
    {
     "name": "stdout",
     "output_type": "stream",
     "text": [
      "training seed 2 started\n"
     ]
    },
    {
     "name": "stderr",
     "output_type": "stream",
     "text": [
      "Training: 100%|██████████| 100/100 [00:24<00:00,  4.04epochs/s]\n"
     ]
    },
    {
     "name": "stdout",
     "output_type": "stream",
     "text": [
      "training seed 3 started\n"
     ]
    },
    {
     "name": "stderr",
     "output_type": "stream",
     "text": [
      "Training: 100%|██████████| 100/100 [00:24<00:00,  4.14epochs/s]\n"
     ]
    },
    {
     "name": "stdout",
     "output_type": "stream",
     "text": [
      "training seed 4 started\n"
     ]
    },
    {
     "name": "stderr",
     "output_type": "stream",
     "text": [
      "Training: 100%|██████████| 100/100 [00:24<00:00,  4.14epochs/s]\n"
     ]
    },
    {
     "name": "stdout",
     "output_type": "stream",
     "text": [
      "training seed 5 started\n"
     ]
    },
    {
     "name": "stderr",
     "output_type": "stream",
     "text": [
      "Training: 100%|██████████| 100/100 [00:24<00:00,  4.14epochs/s]\n"
     ]
    },
    {
     "name": "stdout",
     "output_type": "stream",
     "text": [
      "Training finished for all seeds.\n",
      "training seed 1 started\n"
     ]
    },
    {
     "name": "stderr",
     "output_type": "stream",
     "text": [
      "Training: 100%|██████████| 100/100 [00:32<00:00,  3.07epochs/s]\n"
     ]
    },
    {
     "name": "stdout",
     "output_type": "stream",
     "text": [
      "training seed 2 started\n"
     ]
    },
    {
     "name": "stderr",
     "output_type": "stream",
     "text": [
      "Training: 100%|██████████| 100/100 [00:31<00:00,  3.20epochs/s]\n"
     ]
    },
    {
     "name": "stdout",
     "output_type": "stream",
     "text": [
      "training seed 3 started\n"
     ]
    },
    {
     "name": "stderr",
     "output_type": "stream",
     "text": [
      "Training: 100%|██████████| 100/100 [00:30<00:00,  3.24epochs/s]\n"
     ]
    },
    {
     "name": "stdout",
     "output_type": "stream",
     "text": [
      "training seed 4 started\n"
     ]
    },
    {
     "name": "stderr",
     "output_type": "stream",
     "text": [
      "Training: 100%|██████████| 100/100 [00:31<00:00,  3.18epochs/s]\n"
     ]
    },
    {
     "name": "stdout",
     "output_type": "stream",
     "text": [
      "training seed 5 started\n"
     ]
    },
    {
     "name": "stderr",
     "output_type": "stream",
     "text": [
      "Training: 100%|██████████| 100/100 [00:30<00:00,  3.25epochs/s]"
     ]
    },
    {
     "name": "stdout",
     "output_type": "stream",
     "text": [
      "Training finished for all seeds.\n"
     ]
    },
    {
     "name": "stderr",
     "output_type": "stream",
     "text": [
      "\n"
     ]
    }
   ],
   "source": [
    "seeds = np.arange(1,6)\n",
    "\n",
    "SGD, EI, DP, EO, EODD = experiment_runner(dataset, SGD_hp, EI_hp, DP_hp, EO_hp, EODD_hp, seeds)"
   ]
  },
  {
   "cell_type": "code",
   "execution_count": 21,
   "id": "da2d3752",
   "metadata": {},
   "outputs": [
    {
     "name": "stdout",
     "output_type": "stream",
     "text": [
      "model      accuracy_mean    accuracy_var    ei_mean      ei_var    dp_mean      dp_var     eo_mean      eo_var    EODD_mean    EODD_var\n",
      "-------  ---------------  --------------  ---------  ----------  ---------  ----------  ----------  ----------  -----------  ----------\n",
      "SGD             0.847968     0.000228481  0.0512867  0.00207924  0.122741   0.00298508  0.0968474   0.00511557   0.0968474   0.00511557\n",
      "EI              0.818871     0.00274595   0.0214736  0.00554583  0.047252   0.00324576  0.00483895  0.00494637   0.00842311  0.00223752\n",
      "DP              0.811514     0.00704084   0.023109   0.00467412  0.0995107  0.00167259  0.0630615   0.00588653   0.0630615   0.00588653\n",
      "EO              0.84741      0.0011478    0.046095   0.00102533  0.110708   0.00382522  0.0320768   0.010279     0.0414772   0.00230791\n",
      "EODD            0.842404     0.0021201    0.0407153  0.00553233  0.0971033  0.00796931  0.0170637   0.011484     0.03409     0.00406282\n"
     ]
    }
   ],
   "source": [
    "result = []\n",
    "models = [\"SGD\", \"EI\", \"DP\", \"EO\", \"EODD\"]\n",
    "sol = [SGD, EI, DP, EO, EODD]\n",
    "for i in range(len(models)):\n",
    "    c = []\n",
    "    c.append(models[i])\n",
    "    res = sol[i]\n",
    "    c.append(res['accuracy_mean'])\n",
    "    c.append(res['accuracy_var'])\n",
    "    c.append(res['ei_mean'])\n",
    "    c.append(res['ei_var'])\n",
    "    c.append(res['dp_mean'])\n",
    "    c.append(res['dp_var'])\n",
    "    c.append(res['eo_mean'])\n",
    "    c.append(res['eo_var'])\n",
    "    c.append(res['eodd_mean'])\n",
    "    c.append(res['eodd_var'])\n",
    "    result.append(c)\n",
    "\n",
    "print(tabulate(result, headers=[\"model\",\"accuracy_mean\",\"accuracy_var\",\"ei_mean\",\"ei_var\", \"dp_mean\", \"dp_var\",\"eo_mean\",\"eo_var\",\"EODD_mean\",\"EODD_var\"]))"
   ]
  },
  {
   "cell_type": "code",
   "execution_count": null,
   "id": "6b387e29",
   "metadata": {},
   "outputs": [],
   "source": []
  }
 ],
 "metadata": {
  "kernelspec": {
   "display_name": "Python 3",
   "language": "python",
   "name": "python3"
  },
  "language_info": {
   "codemirror_mode": {
    "name": "ipython",
    "version": 3
   },
   "file_extension": ".py",
   "mimetype": "text/x-python",
   "name": "python",
   "nbconvert_exporter": "python",
   "pygments_lexer": "ipython3",
   "version": "3.8.8"
  }
 },
 "nbformat": 4,
 "nbformat_minor": 5
}
