{
 "cells": [
  {
   "cell_type": "code",
   "execution_count": 1,
   "id": "c8469835",
   "metadata": {},
   "outputs": [],
   "source": [
    "import torch\n",
    "import numpy as np\n",
    "import random\n",
    "import torch.optim as optim\n",
    "\n",
    "from algorithms import *\n",
    "from models import *\n",
    "from dataloaders import *\n",
    "\n",
    "from tabulate import tabulate"
   ]
  },
  {
   "cell_type": "code",
   "execution_count": 2,
   "id": "7a8cebb6",
   "metadata": {},
   "outputs": [],
   "source": [
    "device = 'cpu'\n",
    "dataset = SyntheticDataset(device=device)"
   ]
  },
  {
   "cell_type": "code",
   "execution_count": 3,
   "id": "164673fa",
   "metadata": {},
   "outputs": [],
   "source": [
    "def lr_fb_model_runner(dataset, hp, seeds):\n",
    "    test = {'accuracy':[],\n",
    "            'ei_disparity':[],\n",
    "            'dp_disparity':[],\n",
    "            'eo_disparity':[],\n",
    "            'eodd_disparity':[]}\n",
    "    \n",
    "    train = {'accuracy':[],\n",
    "            'ei_disparity':[],\n",
    "            'dp_disparity':[],\n",
    "            'eo_disparity':[],\n",
    "            'eodd_disparity':[]}\n",
    "    \n",
    "    val = {'accuracy':[],\n",
    "            'ei_disparity':[],\n",
    "            'dp_disparity':[],\n",
    "            'eo_disparity':[],\n",
    "            'eodd_disparity':[]}\n",
    "\n",
    "    def append_res(l,acc,ei,dp,eo,eodd):\n",
    "        l['accuracy'].append(acc)\n",
    "        l['ei_disparity'].append(ei)\n",
    "        l['dp_disparity'].append(dp)\n",
    "        l['eo_disparity'].append(eo)\n",
    "        l['eodd_disparity'].append(eodd)\n",
    "\n",
    "    for i in range(len(seeds)):\n",
    "        print('training seed', seeds[i] ,'started')\n",
    "        random.seed(seeds[i])\n",
    "        np.random.seed(seeds[i])\n",
    "        torch.manual_seed(seeds[i]) \n",
    "\n",
    "        model = logReg(num_features=dataset.XZ_train.shape[1])\n",
    "        model = model.to(device)\n",
    "        \n",
    "        lr = hp['learning_rate']\n",
    "        optimizer = optim.Adam(model.parameters(), lr=lr, weight_decay=1e-4)\n",
    "        \n",
    "        results = trainer_fb_fair(\n",
    "            model,\n",
    "            dataset,\n",
    "            optimizer,\n",
    "            device,\n",
    "            n_epochs=hp['n_epochs'],\n",
    "            batch_size=hp['batch_size'], \n",
    "            z_blind=False,\n",
    "            fairness=hp['fairness'], \n",
    "            lambda_=hp['lambda_'], \n",
    "            optimal_effort=True, \n",
    "            delta_effort=hp['delta_effort']\n",
    "            )\n",
    "        \n",
    "        append_res(train,results.train_acc_hist[-1],results.train_ei_hist[-1],results.train_dp_hist[-1],results.train_eo_hist[-1],results.train_eodd_hist[-1])\n",
    "        append_res(val,results.val_acc,results.val_ei,results.val_dp,results.val_eo,results.val_eodd)\n",
    "        append_res(test,results.test_acc,results.test_ei,results.test_dp,results.test_eo,results.test_eodd)\n",
    "\n",
    "    def get_res(l):\n",
    "        res = {}\n",
    "        res['accuracy_mean'] = np.mean(l['accuracy'])\n",
    "        res['accuracy_var'] = np.std(l['accuracy'])\n",
    "        res['accuracy_list'] = l['accuracy']\n",
    "        res['ei_mean'] = np.mean(l['ei_disparity'])\n",
    "        res['ei_var'] = np.std(l['ei_disparity'])\n",
    "        res['ei_list'] = l['ei_disparity']\n",
    "        res['dp_mean'] = np.mean(l['dp_disparity'])\n",
    "        res['dp_var'] = np.std(l['dp_disparity'])\n",
    "        res['dp_list'] = l['dp_disparity']\n",
    "        res['eo_mean'] = np.mean(l['eo_disparity'])\n",
    "        res['eo_var'] = np.std(l['eo_disparity'])\n",
    "        res['eo_list'] = l['eo_disparity']\n",
    "        res['eodd_mean'] = np.mean(l['eodd_disparity'])\n",
    "        res['eodd_var'] = np.std(l['eodd_disparity'])\n",
    "        res['eodd_list'] = l['eodd_disparity']\n",
    "        return res\n",
    "\n",
    "    res_train = get_res(train)\n",
    "    res_val = get_res(val)\n",
    "    res_test = get_res(test)\n",
    "    print('Training finished for all seeds.')\n",
    "    \n",
    "    return res_train, res_val, res_test\n",
    "\n",
    "\n",
    "def experiment_runner(dataset, SGD_hp, EI_hp, DP_hp, EO_hp, EODD_hp, seeds):\n",
    "    \n",
    "    _, _, SGD = lr_fb_model_runner(dataset, SGD_hp, seeds)\n",
    "    _, _, EI = lr_fb_model_runner(dataset, EI_hp, seeds)\n",
    "    _, _, DP = lr_fb_model_runner(dataset, DP_hp, seeds)\n",
    "    _, _, EO = lr_fb_model_runner(dataset, EO_hp, seeds)\n",
    "    _, _, EODD = lr_fb_model_runner(dataset, EODD_hp, seeds)\n",
    "    \n",
    "    return SGD, EI, DP, EO, EODD\n",
    "\n",
    "def hyperparameter_test(dataset, hp_test, seed=0):\n",
    "    hp = hp_test.copy()\n",
    "    result = []\n",
    "    for i in hp_test['learning_rate']:\n",
    "        for k in hp_test['lambda_']:\n",
    "            c = []\n",
    "            hp['learning_rate'] = i\n",
    "            hp['lambda_'] = k\n",
    "            try:\n",
    "                train, val, _ = lr_fb_model_runner(dataset, hp, seeds=[seed])\n",
    "            except:\n",
    "                continue\n",
    "            c.append(hp['learning_rate'])\n",
    "            c.append(hp['lambda_'])\n",
    "            c.append(train['accuracy_mean'])\n",
    "            c.append(val['accuracy_mean'])\n",
    "            c.append(val['ei_mean'])\n",
    "            c.append(val['dp_mean'])\n",
    "            c.append(val['eo_mean'])\n",
    "            c.append(val['eodd_mean'])\n",
    "            result.append(c)\n",
    "    print(tabulate(result, headers=['learning_rate', 'lambda_', 'accuracy_train', 'accuracy_val','ei', 'dp', 'eo', 'eodd']))"
   ]
  },
  {
   "cell_type": "markdown",
   "id": "d80cae9c",
   "metadata": {},
   "source": [
    "# SGD Hyperparameter Selection"
   ]
  },
  {
   "cell_type": "code",
   "execution_count": 4,
   "id": "2b0e7cfb",
   "metadata": {
    "scrolled": true
   },
   "outputs": [
    {
     "name": "stdout",
     "output_type": "stream",
     "text": [
      "training seed 0 started\n"
     ]
    },
    {
     "name": "stderr",
     "output_type": "stream",
     "text": [
      "Training: 100%|██████████| 100/100 [00:08<00:00, 11.55epochs/s]\n"
     ]
    },
    {
     "name": "stdout",
     "output_type": "stream",
     "text": [
      "Training finished for all seeds.\n",
      "training seed 0 started\n"
     ]
    },
    {
     "name": "stderr",
     "output_type": "stream",
     "text": [
      "Training: 100%|██████████| 100/100 [00:08<00:00, 11.79epochs/s]\n"
     ]
    },
    {
     "name": "stdout",
     "output_type": "stream",
     "text": [
      "Training finished for all seeds.\n",
      "training seed 0 started\n"
     ]
    },
    {
     "name": "stderr",
     "output_type": "stream",
     "text": [
      "Training: 100%|██████████| 100/100 [00:08<00:00, 11.95epochs/s]\n"
     ]
    },
    {
     "name": "stdout",
     "output_type": "stream",
     "text": [
      "Training finished for all seeds.\n",
      "training seed 0 started\n"
     ]
    },
    {
     "name": "stderr",
     "output_type": "stream",
     "text": [
      "Training: 100%|██████████| 100/100 [00:08<00:00, 11.62epochs/s]\n"
     ]
    },
    {
     "name": "stdout",
     "output_type": "stream",
     "text": [
      "Training finished for all seeds.\n",
      "  learning_rate    lambda_    accuracy_train    accuracy_val        ei         dp          eo        eodd\n",
      "---------------  ---------  ----------------  --------------  --------  ---------  ----------  ----------\n",
      "         0.0001          0          0.794219        0.798438  0.175972  0.0568639  0.359984    0.359984\n",
      "         0.001           0          0.972187        0.969063  0.197906  0.121821   0.00340553  0.0500687\n",
      "         0.01            0          0.997188        0.9975    0.135307  0.101419   0.00158604  0.00414326\n",
      "         0.1             0          0.997969        0.998125  0.114007  0.100794   0.00158604  0.00276217\n"
     ]
    }
   ],
   "source": [
    "SGD_hp_test = {}\n",
    "SGD_hp_test['learning_rate'] = [0.0001, 0.001, 0.01, 0.1]\n",
    "SGD_hp_test['lambda_'] = [0]\n",
    "SGD_hp_test['n_epochs'] = 100\n",
    "SGD_hp_test['batch_size'] = 1024\n",
    "SGD_hp_test['fairness'] = ''\n",
    "SGD_hp_test['delta_effort'] = 0.5\n",
    "\n",
    "hyperparameter_test(dataset, SGD_hp_test, seed=0)"
   ]
  },
  {
   "cell_type": "code",
   "execution_count": 5,
   "id": "48b9f0be",
   "metadata": {},
   "outputs": [],
   "source": [
    "SGD_hp = SGD_hp_test.copy()\n",
    "SGD_hp['learning_rate'] = 0.1\n",
    "SGD_hp['lambda_'] = 0"
   ]
  },
  {
   "cell_type": "markdown",
   "id": "a68abbe2",
   "metadata": {},
   "source": [
    "# EI Hyperparameter Selection"
   ]
  },
  {
   "cell_type": "code",
   "execution_count": 6,
   "id": "cac1c33d",
   "metadata": {
    "scrolled": true
   },
   "outputs": [
    {
     "name": "stdout",
     "output_type": "stream",
     "text": [
      "training seed 0 started\n"
     ]
    },
    {
     "name": "stderr",
     "output_type": "stream",
     "text": [
      "Training: 100%|██████████| 100/100 [00:15<00:00,  6.48epochs/s]\n"
     ]
    },
    {
     "name": "stdout",
     "output_type": "stream",
     "text": [
      "Training finished for all seeds.\n",
      "training seed 0 started\n"
     ]
    },
    {
     "name": "stderr",
     "output_type": "stream",
     "text": [
      "Training: 100%|██████████| 100/100 [00:15<00:00,  6.49epochs/s]\n"
     ]
    },
    {
     "name": "stdout",
     "output_type": "stream",
     "text": [
      "Training finished for all seeds.\n",
      "training seed 0 started\n"
     ]
    },
    {
     "name": "stderr",
     "output_type": "stream",
     "text": [
      "Training: 100%|██████████| 100/100 [00:16<00:00,  5.99epochs/s]\n"
     ]
    },
    {
     "name": "stdout",
     "output_type": "stream",
     "text": [
      "Training finished for all seeds.\n",
      "training seed 0 started\n"
     ]
    },
    {
     "name": "stderr",
     "output_type": "stream",
     "text": [
      "Training: 100%|██████████| 100/100 [00:15<00:00,  6.32epochs/s]\n"
     ]
    },
    {
     "name": "stdout",
     "output_type": "stream",
     "text": [
      "Training finished for all seeds.\n",
      "training seed 0 started\n"
     ]
    },
    {
     "name": "stderr",
     "output_type": "stream",
     "text": [
      "Training: 100%|██████████| 100/100 [00:11<00:00,  8.69epochs/s]\n"
     ]
    },
    {
     "name": "stdout",
     "output_type": "stream",
     "text": [
      "Training finished for all seeds.\n",
      "training seed 0 started\n"
     ]
    },
    {
     "name": "stderr",
     "output_type": "stream",
     "text": [
      "Training: 100%|██████████| 100/100 [00:15<00:00,  6.45epochs/s]\n"
     ]
    },
    {
     "name": "stdout",
     "output_type": "stream",
     "text": [
      "Training finished for all seeds.\n",
      "training seed 0 started\n"
     ]
    },
    {
     "name": "stderr",
     "output_type": "stream",
     "text": [
      "Training: 100%|██████████| 100/100 [00:15<00:00,  6.45epochs/s]\n"
     ]
    },
    {
     "name": "stdout",
     "output_type": "stream",
     "text": [
      "Training finished for all seeds.\n",
      "training seed 0 started\n"
     ]
    },
    {
     "name": "stderr",
     "output_type": "stream",
     "text": [
      "Training: 100%|██████████| 100/100 [00:14<00:00,  6.74epochs/s]\n"
     ]
    },
    {
     "name": "stdout",
     "output_type": "stream",
     "text": [
      "Training finished for all seeds.\n",
      "training seed 0 started\n"
     ]
    },
    {
     "name": "stderr",
     "output_type": "stream",
     "text": [
      "Training: 100%|██████████| 100/100 [00:14<00:00,  6.74epochs/s]\n"
     ]
    },
    {
     "name": "stdout",
     "output_type": "stream",
     "text": [
      "Training finished for all seeds.\n",
      "training seed 0 started\n"
     ]
    },
    {
     "name": "stderr",
     "output_type": "stream",
     "text": [
      "Training: 100%|██████████| 100/100 [00:14<00:00,  6.79epochs/s]\n"
     ]
    },
    {
     "name": "stdout",
     "output_type": "stream",
     "text": [
      "Training finished for all seeds.\n",
      "training seed 0 started\n"
     ]
    },
    {
     "name": "stderr",
     "output_type": "stream",
     "text": [
      "Training: 100%|██████████| 100/100 [00:15<00:00,  6.52epochs/s]\n"
     ]
    },
    {
     "name": "stdout",
     "output_type": "stream",
     "text": [
      "Training finished for all seeds.\n",
      "training seed 0 started\n"
     ]
    },
    {
     "name": "stderr",
     "output_type": "stream",
     "text": [
      "Training: 100%|██████████| 100/100 [00:10<00:00,  9.85epochs/s]\n"
     ]
    },
    {
     "name": "stdout",
     "output_type": "stream",
     "text": [
      "Training finished for all seeds.\n",
      "training seed 0 started\n"
     ]
    },
    {
     "name": "stderr",
     "output_type": "stream",
     "text": [
      "Training: 100%|██████████| 100/100 [00:15<00:00,  6.65epochs/s]\n"
     ]
    },
    {
     "name": "stdout",
     "output_type": "stream",
     "text": [
      "Training finished for all seeds.\n",
      "training seed 0 started\n"
     ]
    },
    {
     "name": "stderr",
     "output_type": "stream",
     "text": [
      "Training: 100%|██████████| 100/100 [00:15<00:00,  6.32epochs/s]"
     ]
    },
    {
     "name": "stdout",
     "output_type": "stream",
     "text": [
      "Training finished for all seeds.\n",
      "  learning_rate    lambda_    accuracy_train    accuracy_val          ei          dp           eo         eodd\n",
      "---------------  ---------  ----------------  --------------  ----------  ----------  -----------  -----------\n",
      "          0.001        0            0.9975          0.9975    0.130242    0.101419    0.00158604   0.00414326\n",
      "          0.001        0.2          0.997188        0.996875  0.00592022  0.0976471   0.00555115   0.00555115\n",
      "          0.001        0.5          0.994141        0.994375  0.00662543  0.0945332   0.0134814    0.0134814\n",
      "          0.001        0.8          0.785547        0.787813  0.199056    0.112018    0.538462     0.538462\n",
      "          0.001        1            0.400781        0.395937  0           0.00123887  0            0.00293698\n",
      "          0.001        2            0.601406        0.605938  0           0           0            0\n",
      "          0.001       10            0.601406        0.605938  0           0           0            0\n",
      "          0.01         0            0.998203        0.99875   0.105321    0.100169    0.00158604   0.00158604\n",
      "          0.01         0.2          0.996719        0.998125  0.00255083  0.098886    0.00158604   0.00158604\n",
      "          0.01         0.5          0.995           0.996563  0.0107642   0.0991651   0.000793021  0.000793021\n",
      "          0.01         0.8          0.990547        0.992188  0.0327242   0.0990872   0.000793021  0.000891485\n",
      "          0.01         1            0.417578        0.409687  0.98        0.0161816   0            0.0257865\n",
      "          0.01         2            0.601406        0.605938  0           0           0            0\n",
      "          0.01        10            0.601406        0.605938  0           0           0            0\n"
     ]
    },
    {
     "name": "stderr",
     "output_type": "stream",
     "text": [
      "\n"
     ]
    }
   ],
   "source": [
    "EI_hp_test = SGD_hp_test.copy()\n",
    "EI_hp_test['learning_rate'] = [1e-3, 1e-2]\n",
    "EI_hp_test['lambda_'] = [0, 0.2, 0.5, 0.8, 1, 2, 10]\n",
    "EI_hp_test['batch_size'] = 128\n",
    "EI_hp_test['fairness'] = 'EI'\n",
    "\n",
    "hyperparameter_test(dataset, EI_hp_test, seed=0)"
   ]
  },
  {
   "cell_type": "code",
   "execution_count": 7,
   "id": "0b8789bf",
   "metadata": {},
   "outputs": [],
   "source": [
    "EI_hp = EI_hp_test.copy()\n",
    "EI_hp['learning_rate'] = 0.01\n",
    "EI_hp['lambda_'] = 0.2"
   ]
  },
  {
   "cell_type": "markdown",
   "id": "7ea6fe68",
   "metadata": {},
   "source": [
    "# DP Hyperparameter Selection"
   ]
  },
  {
   "cell_type": "code",
   "execution_count": null,
   "id": "726a28db",
   "metadata": {
    "scrolled": true
   },
   "outputs": [
    {
     "name": "stdout",
     "output_type": "stream",
     "text": [
      "training seed 0 started\n"
     ]
    },
    {
     "name": "stderr",
     "output_type": "stream",
     "text": [
      "Training: 100%|██████████| 100/100 [00:11<00:00,  8.52epochs/s]\n"
     ]
    },
    {
     "name": "stdout",
     "output_type": "stream",
     "text": [
      "Training finished for all seeds.\n",
      "training seed 0 started\n"
     ]
    },
    {
     "name": "stderr",
     "output_type": "stream",
     "text": [
      "Training: 100%|██████████| 100/100 [00:11<00:00,  8.81epochs/s]\n"
     ]
    },
    {
     "name": "stdout",
     "output_type": "stream",
     "text": [
      "Training finished for all seeds.\n",
      "training seed 0 started\n"
     ]
    },
    {
     "name": "stderr",
     "output_type": "stream",
     "text": [
      "Training: 100%|██████████| 100/100 [00:11<00:00,  8.62epochs/s]\n"
     ]
    },
    {
     "name": "stdout",
     "output_type": "stream",
     "text": [
      "Training finished for all seeds.\n",
      "training seed 0 started\n"
     ]
    },
    {
     "name": "stderr",
     "output_type": "stream",
     "text": [
      "Training: 100%|██████████| 100/100 [00:11<00:00,  8.71epochs/s]\n"
     ]
    },
    {
     "name": "stdout",
     "output_type": "stream",
     "text": [
      "Training finished for all seeds.\n",
      "training seed 0 started\n"
     ]
    },
    {
     "name": "stderr",
     "output_type": "stream",
     "text": [
      "Training: 100%|██████████| 100/100 [00:11<00:00,  9.02epochs/s]\n"
     ]
    },
    {
     "name": "stdout",
     "output_type": "stream",
     "text": [
      "Training finished for all seeds.\n",
      "training seed 0 started\n"
     ]
    },
    {
     "name": "stderr",
     "output_type": "stream",
     "text": [
      "Training: 100%|██████████| 100/100 [00:11<00:00,  9.00epochs/s]\n"
     ]
    },
    {
     "name": "stdout",
     "output_type": "stream",
     "text": [
      "Training finished for all seeds.\n",
      "training seed 0 started\n"
     ]
    },
    {
     "name": "stderr",
     "output_type": "stream",
     "text": [
      "Training: 100%|██████████| 100/100 [00:11<00:00,  8.99epochs/s]\n"
     ]
    },
    {
     "name": "stdout",
     "output_type": "stream",
     "text": [
      "Training finished for all seeds.\n",
      "training seed 0 started\n"
     ]
    },
    {
     "name": "stderr",
     "output_type": "stream",
     "text": [
      "Training: 100%|██████████| 100/100 [00:11<00:00,  8.92epochs/s]\n"
     ]
    },
    {
     "name": "stdout",
     "output_type": "stream",
     "text": [
      "Training finished for all seeds.\n",
      "training seed 0 started\n"
     ]
    },
    {
     "name": "stderr",
     "output_type": "stream",
     "text": [
      "Training: 100%|██████████| 100/100 [00:11<00:00,  8.93epochs/s]\n"
     ]
    },
    {
     "name": "stdout",
     "output_type": "stream",
     "text": [
      "Training finished for all seeds.\n",
      "training seed 0 started\n"
     ]
    },
    {
     "name": "stderr",
     "output_type": "stream",
     "text": [
      "Training: 100%|██████████| 100/100 [00:11<00:00,  9.01epochs/s]\n"
     ]
    },
    {
     "name": "stdout",
     "output_type": "stream",
     "text": [
      "Training finished for all seeds.\n",
      "training seed 0 started\n"
     ]
    },
    {
     "name": "stderr",
     "output_type": "stream",
     "text": [
      "Training:  42%|████▏     | 42/100 [00:04<00:06,  8.94epochs/s]"
     ]
    }
   ],
   "source": [
    "DP_hp_test = SGD_hp_test.copy()\n",
    "DP_hp_test['learning_rate'] = [1e-2, 1e-1]\n",
    "DP_hp_test['lambda_'] = [0, 0.01, 0.1, 0.2, 0.5, 0.8]\n",
    "DP_hp_test['batch_size'] = 128\n",
    "DP_hp_test['fairness'] = 'DP'\n",
    "\n",
    "hyperparameter_test(dataset, DP_hp_test, seed=0)"
   ]
  },
  {
   "cell_type": "code",
   "execution_count": 9,
   "id": "fa41c45c",
   "metadata": {},
   "outputs": [],
   "source": [
    "DP_hp = DP_hp_test.copy()\n",
    "DP_hp['learning_rate'] = 0.01\n",
    "DP_hp['lambda_'] = 0.5"
   ]
  },
  {
   "cell_type": "markdown",
   "id": "e0664ac6",
   "metadata": {},
   "source": [
    "# EO Hyperparameter Selection"
   ]
  },
  {
   "cell_type": "code",
   "execution_count": 10,
   "id": "072d22bd",
   "metadata": {
    "scrolled": true
   },
   "outputs": [
    {
     "name": "stdout",
     "output_type": "stream",
     "text": [
      "training seed 0 started\n"
     ]
    },
    {
     "name": "stderr",
     "output_type": "stream",
     "text": [
      "Training: 100%|██████████| 100/100 [00:12<00:00,  8.10epochs/s]\n"
     ]
    },
    {
     "name": "stdout",
     "output_type": "stream",
     "text": [
      "Training finished for all seeds.\n",
      "training seed 0 started\n"
     ]
    },
    {
     "name": "stderr",
     "output_type": "stream",
     "text": [
      "Training: 100%|██████████| 100/100 [00:12<00:00,  7.86epochs/s]\n"
     ]
    },
    {
     "name": "stdout",
     "output_type": "stream",
     "text": [
      "Training finished for all seeds.\n",
      "training seed 0 started\n"
     ]
    },
    {
     "name": "stderr",
     "output_type": "stream",
     "text": [
      "Training: 100%|██████████| 100/100 [00:12<00:00,  7.95epochs/s]\n"
     ]
    },
    {
     "name": "stdout",
     "output_type": "stream",
     "text": [
      "Training finished for all seeds.\n",
      "training seed 0 started\n"
     ]
    },
    {
     "name": "stderr",
     "output_type": "stream",
     "text": [
      "Training: 100%|██████████| 100/100 [00:12<00:00,  8.14epochs/s]\n"
     ]
    },
    {
     "name": "stdout",
     "output_type": "stream",
     "text": [
      "Training finished for all seeds.\n",
      "training seed 0 started\n"
     ]
    },
    {
     "name": "stderr",
     "output_type": "stream",
     "text": [
      "Training: 100%|██████████| 100/100 [00:12<00:00,  8.15epochs/s]\n"
     ]
    },
    {
     "name": "stdout",
     "output_type": "stream",
     "text": [
      "Training finished for all seeds.\n",
      "training seed 0 started\n"
     ]
    },
    {
     "name": "stderr",
     "output_type": "stream",
     "text": [
      "Training: 100%|██████████| 100/100 [00:12<00:00,  8.00epochs/s]\n"
     ]
    },
    {
     "name": "stdout",
     "output_type": "stream",
     "text": [
      "Training finished for all seeds.\n",
      "training seed 0 started\n"
     ]
    },
    {
     "name": "stderr",
     "output_type": "stream",
     "text": [
      "Training: 100%|██████████| 100/100 [00:12<00:00,  7.90epochs/s]\n"
     ]
    },
    {
     "name": "stdout",
     "output_type": "stream",
     "text": [
      "Training finished for all seeds.\n",
      "training seed 0 started\n"
     ]
    },
    {
     "name": "stderr",
     "output_type": "stream",
     "text": [
      "Training: 100%|██████████| 100/100 [00:12<00:00,  8.16epochs/s]\n"
     ]
    },
    {
     "name": "stdout",
     "output_type": "stream",
     "text": [
      "Training finished for all seeds.\n",
      "training seed 0 started\n"
     ]
    },
    {
     "name": "stderr",
     "output_type": "stream",
     "text": [
      "Training: 100%|██████████| 100/100 [00:12<00:00,  8.10epochs/s]\n"
     ]
    },
    {
     "name": "stdout",
     "output_type": "stream",
     "text": [
      "Training finished for all seeds.\n",
      "training seed 0 started\n"
     ]
    },
    {
     "name": "stderr",
     "output_type": "stream",
     "text": [
      "Training: 100%|██████████| 100/100 [00:12<00:00,  7.98epochs/s]\n"
     ]
    },
    {
     "name": "stdout",
     "output_type": "stream",
     "text": [
      "Training finished for all seeds.\n",
      "training seed 0 started\n"
     ]
    },
    {
     "name": "stderr",
     "output_type": "stream",
     "text": [
      "Training: 100%|██████████| 100/100 [00:12<00:00,  8.02epochs/s]\n"
     ]
    },
    {
     "name": "stdout",
     "output_type": "stream",
     "text": [
      "Training finished for all seeds.\n",
      "training seed 0 started\n"
     ]
    },
    {
     "name": "stderr",
     "output_type": "stream",
     "text": [
      "Training: 100%|██████████| 100/100 [00:12<00:00,  8.15epochs/s]\n"
     ]
    },
    {
     "name": "stdout",
     "output_type": "stream",
     "text": [
      "Training finished for all seeds.\n",
      "training seed 0 started\n"
     ]
    },
    {
     "name": "stderr",
     "output_type": "stream",
     "text": [
      "Training: 100%|██████████| 100/100 [00:12<00:00,  8.15epochs/s]\n"
     ]
    },
    {
     "name": "stdout",
     "output_type": "stream",
     "text": [
      "Training finished for all seeds.\n",
      "training seed 0 started\n"
     ]
    },
    {
     "name": "stderr",
     "output_type": "stream",
     "text": [
      "Training: 100%|██████████| 100/100 [00:12<00:00,  8.13epochs/s]"
     ]
    },
    {
     "name": "stdout",
     "output_type": "stream",
     "text": [
      "Training finished for all seeds.\n",
      "  learning_rate    lambda_    accuracy_train    accuracy_val         ei         dp           eo        eodd\n",
      "---------------  ---------  ----------------  --------------  ---------  ---------  -----------  ----------\n",
      "          0.001        0           0.9975          0.9975     0.130242   0.101419   0.00158604   0.00414326\n",
      "          0.001        0.2         0.996719        0.996875   0.161248   0.102669   0.000793021  0.00621489\n",
      "          0.001        0.5         0.994453        0.994687   0.201905   0.105482   0            0.0117392\n",
      "          0.001        0.8         0.985781        0.985      0.298939   0.115169   0            0.0331461\n",
      "          0.001        1           0.398594        0.394062   0          0          0            0\n",
      "          0.001        2           0.371797        0.3675     0.0117647  0.0087508  0.00680076   0.00680076\n",
      "          0.001       10           0.0973438       0.09125    0.0298112  0.0813271  0.00147619   0.00690543\n",
      "          0.01         0           0.998203        0.99875    0.105321   0.100169   0.00158604   0.00158604\n",
      "          0.01         0.2         0.997656        0.998437   0.122182   0.101107   0.000793021  0.00276217\n",
      "          0.01         0.5         0.996406        0.996563   0.152597   0.102982   0.000793021  0.00690543\n",
      "          0.01         0.8         0.992891        0.993437   0.220926   0.106732   0            0.0145014\n",
      "          0.01         1           0.398594        0.394062   0          0          0            0\n",
      "          0.01         2           0.398594        0.394062   0          0          0            0\n",
      "          0.01        10           0.0134375       0.0134375  0.0525191  0.113607   0            0.0296933\n"
     ]
    },
    {
     "name": "stderr",
     "output_type": "stream",
     "text": [
      "\n"
     ]
    }
   ],
   "source": [
    "EO_hp_test = SGD_hp_test.copy()\n",
    "EO_hp_test['learning_rate'] = [1e-3, 1e-2]\n",
    "EO_hp_test['lambda_'] = [0, 0.2, 0.5, 0.8, 1, 2, 10]\n",
    "EO_hp_test['batch_size'] = 128\n",
    "EO_hp_test['fairness'] = 'EO'\n",
    "\n",
    "hyperparameter_test(dataset, EO_hp_test, seed=0)"
   ]
  },
  {
   "cell_type": "code",
   "execution_count": null,
   "id": "cf562c7b",
   "metadata": {},
   "outputs": [],
   "source": [
    "EO_hp = EO_hp_test.copy()\n",
    "EO_hp['learning_rate'] = 0.001\n",
    "EO_hp['lambda_'] = 0.5"
   ]
  },
  {
   "cell_type": "markdown",
   "id": "e130035a",
   "metadata": {},
   "source": [
    "# EOD Hyperparameter Selection"
   ]
  },
  {
   "cell_type": "code",
   "execution_count": 11,
   "id": "17b8fff9",
   "metadata": {
    "scrolled": true
   },
   "outputs": [
    {
     "name": "stdout",
     "output_type": "stream",
     "text": [
      "training seed 0 started\n"
     ]
    },
    {
     "name": "stderr",
     "output_type": "stream",
     "text": [
      "Training: 100%|██████████| 100/100 [00:08<00:00, 11.43epochs/s]\n"
     ]
    },
    {
     "name": "stdout",
     "output_type": "stream",
     "text": [
      "Training finished for all seeds.\n",
      "training seed 0 started\n"
     ]
    },
    {
     "name": "stderr",
     "output_type": "stream",
     "text": [
      "Training: 100%|██████████| 100/100 [00:09<00:00, 11.07epochs/s]\n"
     ]
    },
    {
     "name": "stdout",
     "output_type": "stream",
     "text": [
      "Training finished for all seeds.\n",
      "training seed 0 started\n"
     ]
    },
    {
     "name": "stderr",
     "output_type": "stream",
     "text": [
      "Training: 100%|██████████| 100/100 [00:09<00:00, 10.76epochs/s]\n"
     ]
    },
    {
     "name": "stdout",
     "output_type": "stream",
     "text": [
      "Training finished for all seeds.\n",
      "training seed 0 started\n"
     ]
    },
    {
     "name": "stderr",
     "output_type": "stream",
     "text": [
      "Training: 100%|██████████| 100/100 [00:08<00:00, 11.23epochs/s]\n"
     ]
    },
    {
     "name": "stdout",
     "output_type": "stream",
     "text": [
      "Training finished for all seeds.\n",
      "training seed 0 started\n"
     ]
    },
    {
     "name": "stderr",
     "output_type": "stream",
     "text": [
      "Training: 100%|██████████| 100/100 [00:08<00:00, 11.36epochs/s]\n"
     ]
    },
    {
     "name": "stdout",
     "output_type": "stream",
     "text": [
      "Training finished for all seeds.\n",
      "training seed 0 started\n"
     ]
    },
    {
     "name": "stderr",
     "output_type": "stream",
     "text": [
      "Training: 100%|██████████| 100/100 [00:08<00:00, 11.39epochs/s]\n"
     ]
    },
    {
     "name": "stdout",
     "output_type": "stream",
     "text": [
      "Training finished for all seeds.\n",
      "training seed 0 started\n"
     ]
    },
    {
     "name": "stderr",
     "output_type": "stream",
     "text": [
      "Training: 100%|██████████| 100/100 [00:08<00:00, 11.34epochs/s]\n"
     ]
    },
    {
     "name": "stdout",
     "output_type": "stream",
     "text": [
      "Training finished for all seeds.\n",
      "training seed 0 started\n"
     ]
    },
    {
     "name": "stderr",
     "output_type": "stream",
     "text": [
      "Training: 100%|██████████| 100/100 [00:08<00:00, 11.43epochs/s]\n"
     ]
    },
    {
     "name": "stdout",
     "output_type": "stream",
     "text": [
      "Training finished for all seeds.\n",
      "training seed 0 started\n"
     ]
    },
    {
     "name": "stderr",
     "output_type": "stream",
     "text": [
      "Training: 100%|██████████| 100/100 [00:08<00:00, 11.41epochs/s]\n"
     ]
    },
    {
     "name": "stdout",
     "output_type": "stream",
     "text": [
      "Training finished for all seeds.\n",
      "training seed 0 started\n"
     ]
    },
    {
     "name": "stderr",
     "output_type": "stream",
     "text": [
      "Training: 100%|██████████| 100/100 [00:08<00:00, 11.33epochs/s]\n"
     ]
    },
    {
     "name": "stdout",
     "output_type": "stream",
     "text": [
      "Training finished for all seeds.\n",
      "training seed 0 started\n"
     ]
    },
    {
     "name": "stderr",
     "output_type": "stream",
     "text": [
      "Training: 100%|██████████| 100/100 [00:08<00:00, 11.37epochs/s]\n"
     ]
    },
    {
     "name": "stdout",
     "output_type": "stream",
     "text": [
      "Training finished for all seeds.\n",
      "training seed 0 started\n"
     ]
    },
    {
     "name": "stderr",
     "output_type": "stream",
     "text": [
      "Training: 100%|██████████| 100/100 [00:08<00:00, 11.35epochs/s]\n"
     ]
    },
    {
     "name": "stdout",
     "output_type": "stream",
     "text": [
      "Training finished for all seeds.\n",
      "training seed 0 started\n"
     ]
    },
    {
     "name": "stderr",
     "output_type": "stream",
     "text": [
      "Training: 100%|██████████| 100/100 [00:08<00:00, 11.45epochs/s]\n"
     ]
    },
    {
     "name": "stdout",
     "output_type": "stream",
     "text": [
      "Training finished for all seeds.\n",
      "training seed 0 started\n"
     ]
    },
    {
     "name": "stderr",
     "output_type": "stream",
     "text": [
      "Training: 100%|██████████| 100/100 [00:08<00:00, 11.46epochs/s]"
     ]
    },
    {
     "name": "stdout",
     "output_type": "stream",
     "text": [
      "Training finished for all seeds.\n",
      "  learning_rate    lambda_    accuracy_train    accuracy_val         ei        dp           eo        eodd\n",
      "---------------  ---------  ----------------  --------------  ---------  --------  -----------  ----------\n",
      "          0.001        0          0.9975           0.9975     0.130242   0.101419  0.00158604   0.00414326\n",
      "          0.001        0.2        0.9975           0.9975     0.130242   0.101419  0.00158604   0.00414326\n",
      "          0.001        0.5        0.997422         0.9975     0.130937   0.101419  0.00158604   0.00414326\n",
      "          0.001        0.8        0.997031         0.997812   0.136742   0.101732  0.000793021  0.00414326\n",
      "          0.001        1          0.601406         0.605938   0          0         0            0\n",
      "          0.001        2          0.263125         0.273438   0.0360757  0.302996  0            0.470329\n",
      "          0.001       10          0.263516         0.274062   0.0380477  0.302349  0            0.469297\n",
      "          0.01         0          0.998203         0.99875    0.105321   0.100169  0.00158604   0.00158604\n",
      "          0.01         0.2        0.998203         0.99875    0.106011   0.100169  0.00158604   0.00158604\n",
      "          0.01         0.5        0.998125         0.99875    0.109464   0.100169  0.00158604   0.00158604\n",
      "          0.01         0.8        0.997891         0.998125   0.119551   0.100794  0.00158604   0.00276217\n",
      "          0.01         1          0.601406         0.605938   0          0         0            0\n",
      "          0.01         2          0.00617188       0.0059375  0.0699912  0.106107  0            0.0131203\n",
      "          0.01        10          0.005625         0.0059375  0.072937   0.106107  0            0.0131203\n"
     ]
    },
    {
     "name": "stderr",
     "output_type": "stream",
     "text": [
      "\n"
     ]
    }
   ],
   "source": [
    "EOD_hp_test = SGD_hp_test.copy()\n",
    "EOD_hp_test['learning_rate'] = [1e-3, 1e-2]\n",
    "EOD_hp_test['lambda_'] = [0, 0.2, 0.5, 0.8, 1, 2, 10]\n",
    "EOD_hp_test['batch_size'] = 128\n",
    "EOD_hp_test['fairness'] = 'EOD'\n",
    "\n",
    "hyperparameter_test(dataset, EOD_hp_test, seed=0)"
   ]
  },
  {
   "cell_type": "code",
   "execution_count": null,
   "id": "ae454b27",
   "metadata": {},
   "outputs": [],
   "source": [
    "EOD_hp = EOD_hp_test.copy()\n",
    "EOD_hp['learning_rate'] = 0.01\n",
    "EOD_hp['lambda_'] = 0.2"
   ]
  }
 ],
 "metadata": {
  "kernelspec": {
   "display_name": "Python 3",
   "language": "python",
   "name": "python3"
  },
  "language_info": {
   "codemirror_mode": {
    "name": "ipython",
    "version": 3
   },
   "file_extension": ".py",
   "mimetype": "text/x-python",
   "name": "python",
   "nbconvert_exporter": "python",
   "pygments_lexer": "ipython3",
   "version": "3.8.8"
  }
 },
 "nbformat": 4,
 "nbformat_minor": 5
}
